{
 "cells": [
  {
   "cell_type": "code",
   "execution_count": null,
   "id": "00ae0c00-5673-4d54-9bd5-4192b703a660",
   "metadata": {},
   "outputs": [],
   "source": [
    "# This script is written to download my memories from FB\n",
    "# For photos in album, FB provides an option to download directly\n",
    "# However, to download the photos that you are tagged or you posted on timeline, you have to do it manually\n",
    "# To avoid download the timeline photos 1-by-1 manually, I wrote this script to do it for me instead\n",
    "# Please note that FB updates the app frequently so this script may not work when they changed the UI or class names"
   ]
  },
  {
   "cell_type": "code",
   "execution_count": 2,
   "id": "998882d2-fdb7-4e42-ae23-e48931efa456",
   "metadata": {},
   "outputs": [],
   "source": [
    "# Your Facebook credentials (keep these secret)\n",
    "username = \"\"\n",
    "password = \"\""
   ]
  },
  {
   "cell_type": "code",
   "execution_count": null,
   "metadata": {},
   "outputs": [],
   "source": [
    "# Get all photo urls from Facebook (this step is manual, you can automate it)\n",
    "# 1. Go to https://www.facebook.com/[username]/photos (for photos that you are tagged)\n",
    "# Or https://www.facebook.com/[username]/photos_by (for photos that you posted)\n",
    "# 2. Inspect the webpage by right-clicking on a web page and selecting \"Inspect\" from the menu\n",
    "# 3. Scroll to the end of the page (ensure all photos are loaded)\n",
    "# 4. Once all photos are loaded, copy the <body> element from \"Elements\" tab and open it in your favourite IDE\n",
    "# 5. Select all <a> tag occurences with class \"x1i10hfl xjbqb8w x6umtig x1b1mbwd xaqea5y xav7gou x9f619 x1ypdohk xe8uvvx xdj266r x11i5rnm xat24cr x1mh8g0r xexx8yu x4uap5 x18d9i69 xkhd6sd x16tdsg8 x1hl2dhg xggy1nq x1a2a7pz x1heor9g xt0b8zv x1lliihq x5yr21d x1n2onr6 xh8yej3\", get the url in href attribute\n",
    "# 6. Reformat all urls to be in array form and replace the urls variable below\n",
    "urls = []"
   ]
  },
  {
   "cell_type": "code",
   "execution_count": null,
   "id": "663dfdc1-a9c6-4297-a9ec-eb5c81f65ac0",
   "metadata": {},
   "outputs": [],
   "source": [
    "from selenium import webdriver\n",
    "from selenium.webdriver.common.by import By\n",
    "from selenium.webdriver.common.keys import Keys  # Import Keys\n",
    "from selenium.webdriver.support.wait import WebDriverWait\n",
    "from selenium.webdriver.support import expected_conditions as EC\n",
    "import requests\n",
    "import os\n",
    "\n",
    "counter = 1\n",
    "\n",
    "image_urls = []\n",
    "\n",
    "# Function to download an image\n",
    "def download_image(image_url, destination_folder, image_name):\n",
    "    response = requests.get(image_url)\n",
    "    if response.status_code == 200:\n",
    "        with open(os.path.join(destination_folder, image_name), 'wb') as file:\n",
    "            file.write(response.content)\n",
    "\n",
    "# Setup Selenium WebDriver\n",
    "driver = webdriver.Chrome()  # Replace with your browser and WebDriver\n",
    "\n",
    "# Directory to save images\n",
    "destination_folder = \"downloaded_images\"\n",
    "if not os.path.exists(destination_folder):\n",
    "    os.makedirs(destination_folder)\n",
    "\n",
    "# Iterate over each URL\n",
    "for url in urls:\n",
    "    driver.get(url)\n",
    "\n",
    "    # Login Facebook with your credentials for first URL\n",
    "    if counter == 1:\n",
    "        # Find the username and password fields\n",
    "        username_field = driver.find_element(By.NAME, \"email\")\n",
    "        password_field = driver.find_element(By.NAME, \"pass\")\n",
    "        \n",
    "        # Enter your credentials\n",
    "        username_field.send_keys(username)\n",
    "        password_field.send_keys(password)\n",
    "        \n",
    "        # Submit the form\n",
    "        password_field.send_keys(Keys.RETURN)\n",
    "\n",
    "        # If you have setup two factor authentication, please approve the access at this step\n",
    "    \n",
    "    # Wait for content to load\n",
    "    WebDriverWait(driver, 60).until(EC.presence_of_element_located((By.CSS_SELECTOR, \"img.x85a59c.x193iq5w.x4fas0m.x19kjcj4\")))\n",
    "\n",
    "    # Find images with specific class names\n",
    "    image = driver.find_element(By.CSS_SELECTOR, \"img.x85a59c.x193iq5w.x4fas0m.x19kjcj4\")\n",
    "    src = image.get_attribute(\"src\")\n",
    "    image_urls.append(src)\n",
    "    \n",
    "    if src:\n",
    "        download_image(src, destination_folder, f\"image_{counter}.jpg\")\n",
    "        counter += 1\n",
    "    else: \n",
    "        print(\"Fail: \", url)\n",
    "\n",
    "# Close the browser\n",
    "driver.quit()\n"
   ]
  }
 ],
 "metadata": {
  "kernelspec": {
   "display_name": "Python 3 (ipykernel)",
   "language": "python",
   "name": "python3"
  },
  "language_info": {
   "codemirror_mode": {
    "name": "ipython",
    "version": 3
   },
   "file_extension": ".py",
   "mimetype": "text/x-python",
   "name": "python",
   "nbconvert_exporter": "python",
   "pygments_lexer": "ipython3",
   "version": "3.9.6"
  }
 },
 "nbformat": 4,
 "nbformat_minor": 5
}
